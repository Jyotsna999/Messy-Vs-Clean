{
  "nbformat": 4,
  "nbformat_minor": 0,
  "metadata": {
    "colab": {
      "name": "Messy vs Clean.ipynb",
      "provenance": [],
      "collapsed_sections": []
    },
    "kernelspec": {
      "name": "python3",
      "display_name": "Python 3"
    }
  },
  "cells": [
    {
      "cell_type": "code",
      "source": [
        "#Importing Libraries\n",
        "import numpy as np\n",
        "import pandas as pd\n",
        "import matplotlib.pyplot as plt\n",
        "import seaborn as sns\n",
        "import os\n",
        "os.chdir('/content/drive/MyDrive/Kaggle_Projects/Messy vs Clean')\n",
        "import tensorflow as tf\n",
        "from keras.preprocessing.image import ImageDataGenerator\n",
        "#!unzip -q 'messy-vs-clean-room.zip'\n"
      ],
      "metadata": {
        "id": "_c038_gbQuc0"
      },
      "execution_count": 1,
      "outputs": []
    },
    {
      "cell_type": "code",
      "source": [
        "train_path = 'images/train'\n",
        "test_path = 'images/test'"
      ],
      "metadata": {
        "id": "DohRJMBaRneX"
      },
      "execution_count": 2,
      "outputs": []
    },
    {
      "cell_type": "code",
      "source": [
        "#Preprocessing the Training set\n",
        "train_datagen = ImageDataGenerator(rescale = 1./255, shear_range = 0.2, zoom_range = 0.2, horizontal_flip = True)\n",
        "training_set = train_datagen.flow_from_directory(train_path, target_size = (64, 64), batch_size = 32, class_mode = 'binary')\n",
        "\n",
        "#Preprocessing the Test set\n",
        "test_datagen = ImageDataGenerator(rescale = 1./255)\n",
        "test_set = test_datagen.flow_from_directory(test_path, target_size = (64, 64))"
      ],
      "metadata": {
        "colab": {
          "base_uri": "https://localhost:8080/"
        },
        "id": "tuuni3V0Rs3D",
        "outputId": "8cec9231-444b-433c-b329-b686b1a894d7"
      },
      "execution_count": 3,
      "outputs": [
        {
          "output_type": "stream",
          "name": "stdout",
          "text": [
            "Found 192 images belonging to 2 classes.\n",
            "Found 0 images belonging to 0 classes.\n"
          ]
        }
      ]
    },
    {
      "cell_type": "code",
      "source": [
        "#Building CNN\n",
        "\n",
        "cnn = tf.keras.models.Sequential()\n",
        "cnn.add(tf.keras.layers.Conv2D(filters = 32, kernel_size = 3, activation = 'relu', input_shape = [64, 64, 3]))\n",
        "cnn.add(tf.keras.layers.MaxPool2D(pool_size = 2, strides = 2))\n",
        "cnn.add(tf.keras.layers.Conv2D(filters = 32, kernel_size = 3, activation = 'relu'))\n",
        "cnn.add(tf.keras.layers.MaxPool2D(pool_size = 2, strides = 2))\n",
        "cnn.add(tf.keras.layers.Flatten())\n",
        "cnn.add(tf.keras.layers.Dense(units = 128, activation = 'relu'))\n",
        "cnn.add(tf.keras.layers.Dense(units = 1, activation = 'sigmoid'))\n",
        "\n",
        "\n",
        "cnn.compile(optimizer = 'adam', loss = 'binary_crossentropy', metrics = ['accuracy'])\n",
        "history = cnn.fit(x = training_set, validation_data = test_set, epochs = 50)"
      ],
      "metadata": {
        "colab": {
          "base_uri": "https://localhost:8080/"
        },
        "id": "MUu1UcxbUPvJ",
        "outputId": "fff4130b-62b5-4294-c49f-1e334fbc6561"
      },
      "execution_count": 4,
      "outputs": [
        {
          "output_type": "stream",
          "name": "stdout",
          "text": [
            "Epoch 1/50\n",
            "6/6 [==============================] - 4s 450ms/step - loss: 0.7868 - accuracy: 0.4635\n",
            "Epoch 2/50\n",
            "6/6 [==============================] - 2s 297ms/step - loss: 0.6891 - accuracy: 0.5000\n",
            "Epoch 3/50\n",
            "6/6 [==============================] - 2s 297ms/step - loss: 0.6540 - accuracy: 0.5365\n",
            "Epoch 4/50\n",
            "6/6 [==============================] - 2s 298ms/step - loss: 0.6243 - accuracy: 0.7083\n",
            "Epoch 5/50\n",
            "6/6 [==============================] - 2s 296ms/step - loss: 0.5417 - accuracy: 0.7812\n",
            "Epoch 6/50\n",
            "6/6 [==============================] - 2s 291ms/step - loss: 0.5103 - accuracy: 0.7760\n",
            "Epoch 7/50\n",
            "6/6 [==============================] - 2s 297ms/step - loss: 0.4664 - accuracy: 0.8021\n",
            "Epoch 8/50\n",
            "6/6 [==============================] - 2s 285ms/step - loss: 0.5618 - accuracy: 0.7188\n",
            "Epoch 9/50\n",
            "6/6 [==============================] - 2s 285ms/step - loss: 0.4413 - accuracy: 0.8073\n",
            "Epoch 10/50\n",
            "6/6 [==============================] - 2s 286ms/step - loss: 0.4661 - accuracy: 0.7604\n",
            "Epoch 11/50\n",
            "6/6 [==============================] - 2s 285ms/step - loss: 0.4143 - accuracy: 0.8385\n",
            "Epoch 12/50\n",
            "6/6 [==============================] - 2s 291ms/step - loss: 0.4089 - accuracy: 0.8229\n",
            "Epoch 13/50\n",
            "6/6 [==============================] - 2s 305ms/step - loss: 0.3975 - accuracy: 0.8385\n",
            "Epoch 14/50\n",
            "6/6 [==============================] - 2s 301ms/step - loss: 0.4363 - accuracy: 0.8073\n",
            "Epoch 15/50\n",
            "6/6 [==============================] - 2s 298ms/step - loss: 0.3652 - accuracy: 0.8490\n",
            "Epoch 16/50\n",
            "6/6 [==============================] - 2s 302ms/step - loss: 0.3757 - accuracy: 0.8490\n",
            "Epoch 17/50\n",
            "6/6 [==============================] - 2s 293ms/step - loss: 0.3782 - accuracy: 0.8229\n",
            "Epoch 18/50\n",
            "6/6 [==============================] - 2s 299ms/step - loss: 0.3441 - accuracy: 0.8698\n",
            "Epoch 19/50\n",
            "6/6 [==============================] - 2s 300ms/step - loss: 0.3559 - accuracy: 0.8385\n",
            "Epoch 20/50\n",
            "6/6 [==============================] - 2s 286ms/step - loss: 0.3916 - accuracy: 0.8177\n",
            "Epoch 21/50\n",
            "6/6 [==============================] - 2s 293ms/step - loss: 0.3938 - accuracy: 0.8125\n",
            "Epoch 22/50\n",
            "6/6 [==============================] - 2s 295ms/step - loss: 0.3475 - accuracy: 0.8333\n",
            "Epoch 23/50\n",
            "6/6 [==============================] - 2s 303ms/step - loss: 0.3615 - accuracy: 0.8750\n",
            "Epoch 24/50\n",
            "6/6 [==============================] - 2s 311ms/step - loss: 0.3497 - accuracy: 0.8594\n",
            "Epoch 25/50\n",
            "6/6 [==============================] - 2s 300ms/step - loss: 0.3212 - accuracy: 0.8698\n",
            "Epoch 26/50\n",
            "6/6 [==============================] - 2s 298ms/step - loss: 0.3077 - accuracy: 0.8750\n",
            "Epoch 27/50\n",
            "6/6 [==============================] - 2s 327ms/step - loss: 0.3345 - accuracy: 0.8385\n",
            "Epoch 28/50\n",
            "6/6 [==============================] - 2s 325ms/step - loss: 0.3806 - accuracy: 0.8177\n",
            "Epoch 29/50\n",
            "6/6 [==============================] - 2s 294ms/step - loss: 0.3122 - accuracy: 0.8698\n",
            "Epoch 30/50\n",
            "6/6 [==============================] - 2s 295ms/step - loss: 0.2997 - accuracy: 0.8646\n",
            "Epoch 31/50\n",
            "6/6 [==============================] - 2s 304ms/step - loss: 0.2575 - accuracy: 0.9010\n",
            "Epoch 32/50\n",
            "6/6 [==============================] - 2s 300ms/step - loss: 0.2472 - accuracy: 0.9167\n",
            "Epoch 33/50\n",
            "6/6 [==============================] - 2s 297ms/step - loss: 0.2565 - accuracy: 0.8854\n",
            "Epoch 34/50\n",
            "6/6 [==============================] - 2s 295ms/step - loss: 0.2295 - accuracy: 0.9271\n",
            "Epoch 35/50\n",
            "6/6 [==============================] - 2s 293ms/step - loss: 0.2074 - accuracy: 0.9375\n",
            "Epoch 36/50\n",
            "6/6 [==============================] - 2s 290ms/step - loss: 0.1895 - accuracy: 0.9271\n",
            "Epoch 37/50\n",
            "6/6 [==============================] - 2s 293ms/step - loss: 0.1971 - accuracy: 0.9271\n",
            "Epoch 38/50\n",
            "6/6 [==============================] - 2s 298ms/step - loss: 0.1836 - accuracy: 0.9323\n",
            "Epoch 39/50\n",
            "6/6 [==============================] - 2s 294ms/step - loss: 0.2006 - accuracy: 0.9271\n",
            "Epoch 40/50\n",
            "6/6 [==============================] - 2s 288ms/step - loss: 0.1645 - accuracy: 0.9375\n",
            "Epoch 41/50\n",
            "6/6 [==============================] - 2s 293ms/step - loss: 0.1802 - accuracy: 0.9375\n",
            "Epoch 42/50\n",
            "6/6 [==============================] - 2s 298ms/step - loss: 0.1302 - accuracy: 0.9635\n",
            "Epoch 43/50\n",
            "6/6 [==============================] - 2s 283ms/step - loss: 0.1480 - accuracy: 0.9531\n",
            "Epoch 44/50\n",
            "6/6 [==============================] - 2s 300ms/step - loss: 0.1910 - accuracy: 0.9167\n",
            "Epoch 45/50\n",
            "6/6 [==============================] - 2s 289ms/step - loss: 0.1503 - accuracy: 0.9583\n",
            "Epoch 46/50\n",
            "6/6 [==============================] - 2s 285ms/step - loss: 0.1394 - accuracy: 0.9375\n",
            "Epoch 47/50\n",
            "6/6 [==============================] - 2s 292ms/step - loss: 0.1173 - accuracy: 0.9635\n",
            "Epoch 48/50\n",
            "6/6 [==============================] - 2s 283ms/step - loss: 0.1286 - accuracy: 0.9635\n",
            "Epoch 49/50\n",
            "6/6 [==============================] - 2s 286ms/step - loss: 0.1641 - accuracy: 0.9271\n",
            "Epoch 50/50\n",
            "6/6 [==============================] - 2s 296ms/step - loss: 0.1840 - accuracy: 0.9375\n"
          ]
        }
      ]
    },
    {
      "cell_type": "code",
      "source": [
        "#Prediction on test set\n",
        "\n",
        "import numpy as np\n",
        "from keras.preprocessing import image\n",
        "test_image = image.load_img(test_path+'/3.png', target_size = (64, 64))\n",
        "test_image = image.img_to_array(test_image)\n",
        "test_image = np.expand_dims(test_image, axis = 0)\n",
        "result = cnn.predict(test_image)\n",
        "training_set.class_indices#gives the class indices\n",
        "if result[0][0] == 1:\n",
        "  prediction = 'messy'\n",
        "else:\n",
        "  prediction = 'clean'\n",
        "print(prediction)"
      ],
      "metadata": {
        "colab": {
          "base_uri": "https://localhost:8080/"
        },
        "id": "DhW8int_UsNU",
        "outputId": "d9ca0462-d7cf-4936-dc64-10f8e3378828"
      },
      "execution_count": 5,
      "outputs": [
        {
          "output_type": "stream",
          "name": "stdout",
          "text": [
            "messy\n"
          ]
        }
      ]
    }
  ]
}